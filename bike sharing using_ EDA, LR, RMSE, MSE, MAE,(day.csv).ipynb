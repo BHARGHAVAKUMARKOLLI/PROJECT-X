{
 "cells": [
  {
   "cell_type": "code",
   "execution_count": 119,
   "id": "bc31f782",
   "metadata": {},
   "outputs": [],
   "source": [
    "import numpy as np \n",
    "import pandas as pd\n",
    "import matplotlib.pyplot as plt\n",
    "import seaborn as sns\n",
    "from sklearn.model_selection import train_test_split\n",
    "import warnings\n",
    "warnings.filterwarnings('ignore')\n",
    "import os"
   ]
  },
  {
   "cell_type": "code",
   "execution_count": 12,
   "id": "c4bae07d",
   "metadata": {},
   "outputs": [
    {
     "data": {
      "text/plain": [
       "'C:\\\\Users\\\\bharghava'"
      ]
     },
     "execution_count": 12,
     "metadata": {},
     "output_type": "execute_result"
    }
   ],
   "source": [
    "os.getcwd()"
   ]
  },
  {
   "cell_type": "code",
   "execution_count": 13,
   "id": "91b19593",
   "metadata": {},
   "outputs": [],
   "source": [
    "## read the training data ## import the data file ##\n",
    "bike=pd.read_csv('C:\\\\Users\\\\bharghava\\\\day.csv')"
   ]
  },
  {
   "cell_type": "code",
   "execution_count": 14,
   "id": "855ff182",
   "metadata": {},
   "outputs": [
    {
     "data": {
      "text/plain": [
       "(731, 16)"
      ]
     },
     "execution_count": 14,
     "metadata": {},
     "output_type": "execute_result"
    }
   ],
   "source": [
    "#Shape of the dataset\n",
    "bike.shape   #The dataset contains 731 observations and 16 attributes.##"
   ]
  },
  {
   "cell_type": "code",
   "execution_count": 15,
   "id": "50850ce7",
   "metadata": {},
   "outputs": [
    {
     "name": "stdout",
     "output_type": "stream",
     "text": [
      "<class 'pandas.core.frame.DataFrame'>\n",
      "RangeIndex: 731 entries, 0 to 730\n",
      "Data columns (total 16 columns):\n",
      " #   Column      Non-Null Count  Dtype  \n",
      "---  ------      --------------  -----  \n",
      " 0   instant     731 non-null    int64  \n",
      " 1   dteday      731 non-null    object \n",
      " 2   season      731 non-null    int64  \n",
      " 3   yr          731 non-null    int64  \n",
      " 4   mnth        731 non-null    int64  \n",
      " 5   holiday     731 non-null    int64  \n",
      " 6   weekday     731 non-null    int64  \n",
      " 7   workingday  731 non-null    int64  \n",
      " 8   weathersit  731 non-null    int64  \n",
      " 9   temp        731 non-null    float64\n",
      " 10  atemp       731 non-null    float64\n",
      " 11  hum         731 non-null    float64\n",
      " 12  windspeed   731 non-null    float64\n",
      " 13  casual      731 non-null    int64  \n",
      " 14  registered  731 non-null    int64  \n",
      " 15  cnt         731 non-null    int64  \n",
      "dtypes: float64(4), int64(11), object(1)\n",
      "memory usage: 91.5+ KB\n"
     ]
    }
   ],
   "source": [
    "bike.info()"
   ]
  },
  {
   "cell_type": "code",
   "execution_count": 16,
   "id": "3ccbc768",
   "metadata": {},
   "outputs": [
    {
     "data": {
      "text/html": [
       "<div>\n",
       "<style scoped>\n",
       "    .dataframe tbody tr th:only-of-type {\n",
       "        vertical-align: middle;\n",
       "    }\n",
       "\n",
       "    .dataframe tbody tr th {\n",
       "        vertical-align: top;\n",
       "    }\n",
       "\n",
       "    .dataframe thead th {\n",
       "        text-align: right;\n",
       "    }\n",
       "</style>\n",
       "<table border=\"1\" class=\"dataframe\">\n",
       "  <thead>\n",
       "    <tr style=\"text-align: right;\">\n",
       "      <th></th>\n",
       "      <th>instant</th>\n",
       "      <th>dteday</th>\n",
       "      <th>season</th>\n",
       "      <th>yr</th>\n",
       "      <th>mnth</th>\n",
       "      <th>holiday</th>\n",
       "      <th>weekday</th>\n",
       "      <th>workingday</th>\n",
       "      <th>weathersit</th>\n",
       "      <th>temp</th>\n",
       "      <th>atemp</th>\n",
       "      <th>hum</th>\n",
       "      <th>windspeed</th>\n",
       "      <th>casual</th>\n",
       "      <th>registered</th>\n",
       "      <th>cnt</th>\n",
       "    </tr>\n",
       "  </thead>\n",
       "  <tbody>\n",
       "    <tr>\n",
       "      <th>0</th>\n",
       "      <td>1</td>\n",
       "      <td>2011-01-01</td>\n",
       "      <td>1</td>\n",
       "      <td>0</td>\n",
       "      <td>1</td>\n",
       "      <td>0</td>\n",
       "      <td>6</td>\n",
       "      <td>0</td>\n",
       "      <td>2</td>\n",
       "      <td>0.344167</td>\n",
       "      <td>0.363625</td>\n",
       "      <td>0.805833</td>\n",
       "      <td>0.160446</td>\n",
       "      <td>331</td>\n",
       "      <td>654</td>\n",
       "      <td>985</td>\n",
       "    </tr>\n",
       "    <tr>\n",
       "      <th>1</th>\n",
       "      <td>2</td>\n",
       "      <td>2011-01-02</td>\n",
       "      <td>1</td>\n",
       "      <td>0</td>\n",
       "      <td>1</td>\n",
       "      <td>0</td>\n",
       "      <td>0</td>\n",
       "      <td>0</td>\n",
       "      <td>2</td>\n",
       "      <td>0.363478</td>\n",
       "      <td>0.353739</td>\n",
       "      <td>0.696087</td>\n",
       "      <td>0.248539</td>\n",
       "      <td>131</td>\n",
       "      <td>670</td>\n",
       "      <td>801</td>\n",
       "    </tr>\n",
       "    <tr>\n",
       "      <th>2</th>\n",
       "      <td>3</td>\n",
       "      <td>2011-01-03</td>\n",
       "      <td>1</td>\n",
       "      <td>0</td>\n",
       "      <td>1</td>\n",
       "      <td>0</td>\n",
       "      <td>1</td>\n",
       "      <td>1</td>\n",
       "      <td>1</td>\n",
       "      <td>0.196364</td>\n",
       "      <td>0.189405</td>\n",
       "      <td>0.437273</td>\n",
       "      <td>0.248309</td>\n",
       "      <td>120</td>\n",
       "      <td>1229</td>\n",
       "      <td>1349</td>\n",
       "    </tr>\n",
       "    <tr>\n",
       "      <th>3</th>\n",
       "      <td>4</td>\n",
       "      <td>2011-01-04</td>\n",
       "      <td>1</td>\n",
       "      <td>0</td>\n",
       "      <td>1</td>\n",
       "      <td>0</td>\n",
       "      <td>2</td>\n",
       "      <td>1</td>\n",
       "      <td>1</td>\n",
       "      <td>0.200000</td>\n",
       "      <td>0.212122</td>\n",
       "      <td>0.590435</td>\n",
       "      <td>0.160296</td>\n",
       "      <td>108</td>\n",
       "      <td>1454</td>\n",
       "      <td>1562</td>\n",
       "    </tr>\n",
       "    <tr>\n",
       "      <th>4</th>\n",
       "      <td>5</td>\n",
       "      <td>2011-01-05</td>\n",
       "      <td>1</td>\n",
       "      <td>0</td>\n",
       "      <td>1</td>\n",
       "      <td>0</td>\n",
       "      <td>3</td>\n",
       "      <td>1</td>\n",
       "      <td>1</td>\n",
       "      <td>0.226957</td>\n",
       "      <td>0.229270</td>\n",
       "      <td>0.436957</td>\n",
       "      <td>0.186900</td>\n",
       "      <td>82</td>\n",
       "      <td>1518</td>\n",
       "      <td>1600</td>\n",
       "    </tr>\n",
       "  </tbody>\n",
       "</table>\n",
       "</div>"
      ],
      "text/plain": [
       "   instant      dteday  season  yr  mnth  holiday  weekday  workingday  \\\n",
       "0        1  2011-01-01       1   0     1        0        6           0   \n",
       "1        2  2011-01-02       1   0     1        0        0           0   \n",
       "2        3  2011-01-03       1   0     1        0        1           1   \n",
       "3        4  2011-01-04       1   0     1        0        2           1   \n",
       "4        5  2011-01-05       1   0     1        0        3           1   \n",
       "\n",
       "   weathersit      temp     atemp       hum  windspeed  casual  registered  \\\n",
       "0           2  0.344167  0.363625  0.805833   0.160446     331         654   \n",
       "1           2  0.363478  0.353739  0.696087   0.248539     131         670   \n",
       "2           1  0.196364  0.189405  0.437273   0.248309     120        1229   \n",
       "3           1  0.200000  0.212122  0.590435   0.160296     108        1454   \n",
       "4           1  0.226957  0.229270  0.436957   0.186900      82        1518   \n",
       "\n",
       "    cnt  \n",
       "0   985  \n",
       "1   801  \n",
       "2  1349  \n",
       "3  1562  \n",
       "4  1600  "
      ]
     },
     "execution_count": 16,
     "metadata": {},
     "output_type": "execute_result"
    }
   ],
   "source": [
    "#Read the data ## it show first five columns of the data file \n",
    "bike.head(5)"
   ]
  },
  {
   "cell_type": "code",
   "execution_count": 17,
   "id": "36d72d60",
   "metadata": {},
   "outputs": [
    {
     "data": {
      "text/html": [
       "<div>\n",
       "<style scoped>\n",
       "    .dataframe tbody tr th:only-of-type {\n",
       "        vertical-align: middle;\n",
       "    }\n",
       "\n",
       "    .dataframe tbody tr th {\n",
       "        vertical-align: top;\n",
       "    }\n",
       "\n",
       "    .dataframe thead th {\n",
       "        text-align: right;\n",
       "    }\n",
       "</style>\n",
       "<table border=\"1\" class=\"dataframe\">\n",
       "  <thead>\n",
       "    <tr style=\"text-align: right;\">\n",
       "      <th></th>\n",
       "      <th>instant</th>\n",
       "      <th>dteday</th>\n",
       "      <th>season</th>\n",
       "      <th>yr</th>\n",
       "      <th>mnth</th>\n",
       "      <th>holiday</th>\n",
       "      <th>weekday</th>\n",
       "      <th>workingday</th>\n",
       "      <th>weathersit</th>\n",
       "      <th>temp</th>\n",
       "      <th>atemp</th>\n",
       "      <th>hum</th>\n",
       "      <th>windspeed</th>\n",
       "      <th>casual</th>\n",
       "      <th>registered</th>\n",
       "      <th>cnt</th>\n",
       "    </tr>\n",
       "  </thead>\n",
       "  <tbody>\n",
       "    <tr>\n",
       "      <th>726</th>\n",
       "      <td>727</td>\n",
       "      <td>2012-12-27</td>\n",
       "      <td>1</td>\n",
       "      <td>1</td>\n",
       "      <td>12</td>\n",
       "      <td>0</td>\n",
       "      <td>4</td>\n",
       "      <td>1</td>\n",
       "      <td>2</td>\n",
       "      <td>0.254167</td>\n",
       "      <td>0.226642</td>\n",
       "      <td>0.652917</td>\n",
       "      <td>0.350133</td>\n",
       "      <td>247</td>\n",
       "      <td>1867</td>\n",
       "      <td>2114</td>\n",
       "    </tr>\n",
       "    <tr>\n",
       "      <th>727</th>\n",
       "      <td>728</td>\n",
       "      <td>2012-12-28</td>\n",
       "      <td>1</td>\n",
       "      <td>1</td>\n",
       "      <td>12</td>\n",
       "      <td>0</td>\n",
       "      <td>5</td>\n",
       "      <td>1</td>\n",
       "      <td>2</td>\n",
       "      <td>0.253333</td>\n",
       "      <td>0.255046</td>\n",
       "      <td>0.590000</td>\n",
       "      <td>0.155471</td>\n",
       "      <td>644</td>\n",
       "      <td>2451</td>\n",
       "      <td>3095</td>\n",
       "    </tr>\n",
       "    <tr>\n",
       "      <th>728</th>\n",
       "      <td>729</td>\n",
       "      <td>2012-12-29</td>\n",
       "      <td>1</td>\n",
       "      <td>1</td>\n",
       "      <td>12</td>\n",
       "      <td>0</td>\n",
       "      <td>6</td>\n",
       "      <td>0</td>\n",
       "      <td>2</td>\n",
       "      <td>0.253333</td>\n",
       "      <td>0.242400</td>\n",
       "      <td>0.752917</td>\n",
       "      <td>0.124383</td>\n",
       "      <td>159</td>\n",
       "      <td>1182</td>\n",
       "      <td>1341</td>\n",
       "    </tr>\n",
       "    <tr>\n",
       "      <th>729</th>\n",
       "      <td>730</td>\n",
       "      <td>2012-12-30</td>\n",
       "      <td>1</td>\n",
       "      <td>1</td>\n",
       "      <td>12</td>\n",
       "      <td>0</td>\n",
       "      <td>0</td>\n",
       "      <td>0</td>\n",
       "      <td>1</td>\n",
       "      <td>0.255833</td>\n",
       "      <td>0.231700</td>\n",
       "      <td>0.483333</td>\n",
       "      <td>0.350754</td>\n",
       "      <td>364</td>\n",
       "      <td>1432</td>\n",
       "      <td>1796</td>\n",
       "    </tr>\n",
       "    <tr>\n",
       "      <th>730</th>\n",
       "      <td>731</td>\n",
       "      <td>2012-12-31</td>\n",
       "      <td>1</td>\n",
       "      <td>1</td>\n",
       "      <td>12</td>\n",
       "      <td>0</td>\n",
       "      <td>1</td>\n",
       "      <td>1</td>\n",
       "      <td>2</td>\n",
       "      <td>0.215833</td>\n",
       "      <td>0.223487</td>\n",
       "      <td>0.577500</td>\n",
       "      <td>0.154846</td>\n",
       "      <td>439</td>\n",
       "      <td>2290</td>\n",
       "      <td>2729</td>\n",
       "    </tr>\n",
       "  </tbody>\n",
       "</table>\n",
       "</div>"
      ],
      "text/plain": [
       "     instant      dteday  season  yr  mnth  holiday  weekday  workingday  \\\n",
       "726      727  2012-12-27       1   1    12        0        4           1   \n",
       "727      728  2012-12-28       1   1    12        0        5           1   \n",
       "728      729  2012-12-29       1   1    12        0        6           0   \n",
       "729      730  2012-12-30       1   1    12        0        0           0   \n",
       "730      731  2012-12-31       1   1    12        0        1           1   \n",
       "\n",
       "     weathersit      temp     atemp       hum  windspeed  casual  registered  \\\n",
       "726           2  0.254167  0.226642  0.652917   0.350133     247        1867   \n",
       "727           2  0.253333  0.255046  0.590000   0.155471     644        2451   \n",
       "728           2  0.253333  0.242400  0.752917   0.124383     159        1182   \n",
       "729           1  0.255833  0.231700  0.483333   0.350754     364        1432   \n",
       "730           2  0.215833  0.223487  0.577500   0.154846     439        2290   \n",
       "\n",
       "      cnt  \n",
       "726  2114  \n",
       "727  3095  \n",
       "728  1341  \n",
       "729  1796  \n",
       "730  2729  "
      ]
     },
     "execution_count": 17,
     "metadata": {},
     "output_type": "execute_result"
    }
   ],
   "source": [
    "# Read the data ## it show the last five columns of the datafile \n",
    "bike.tail(5)"
   ]
  },
  {
   "cell_type": "code",
   "execution_count": 18,
   "id": "8514b8c2",
   "metadata": {},
   "outputs": [],
   "source": [
    "##Rename the columns for better understanding of variables\n",
    "bike.rename(columns={'instant':'rec_id','dteday':'datetime','yr':'year','mnth':'month','weathersit':'weather_condition',\n",
    "                       'hum':'humidity','cnt':'total_count'},inplace=True)\n"
   ]
  },
  {
   "cell_type": "code",
   "execution_count": 19,
   "id": "1fe92065",
   "metadata": {},
   "outputs": [
    {
     "data": {
      "text/html": [
       "<div>\n",
       "<style scoped>\n",
       "    .dataframe tbody tr th:only-of-type {\n",
       "        vertical-align: middle;\n",
       "    }\n",
       "\n",
       "    .dataframe tbody tr th {\n",
       "        vertical-align: top;\n",
       "    }\n",
       "\n",
       "    .dataframe thead th {\n",
       "        text-align: right;\n",
       "    }\n",
       "</style>\n",
       "<table border=\"1\" class=\"dataframe\">\n",
       "  <thead>\n",
       "    <tr style=\"text-align: right;\">\n",
       "      <th></th>\n",
       "      <th>rec_id</th>\n",
       "      <th>datetime</th>\n",
       "      <th>season</th>\n",
       "      <th>year</th>\n",
       "      <th>month</th>\n",
       "      <th>holiday</th>\n",
       "      <th>weekday</th>\n",
       "      <th>workingday</th>\n",
       "      <th>weather_condition</th>\n",
       "      <th>temp</th>\n",
       "      <th>atemp</th>\n",
       "      <th>humidity</th>\n",
       "      <th>windspeed</th>\n",
       "      <th>casual</th>\n",
       "      <th>registered</th>\n",
       "      <th>total_count</th>\n",
       "    </tr>\n",
       "  </thead>\n",
       "  <tbody>\n",
       "    <tr>\n",
       "      <th>0</th>\n",
       "      <td>1</td>\n",
       "      <td>2011-01-01</td>\n",
       "      <td>1</td>\n",
       "      <td>0</td>\n",
       "      <td>1</td>\n",
       "      <td>0</td>\n",
       "      <td>6</td>\n",
       "      <td>0</td>\n",
       "      <td>2</td>\n",
       "      <td>0.344167</td>\n",
       "      <td>0.363625</td>\n",
       "      <td>0.805833</td>\n",
       "      <td>0.160446</td>\n",
       "      <td>331</td>\n",
       "      <td>654</td>\n",
       "      <td>985</td>\n",
       "    </tr>\n",
       "    <tr>\n",
       "      <th>1</th>\n",
       "      <td>2</td>\n",
       "      <td>2011-01-02</td>\n",
       "      <td>1</td>\n",
       "      <td>0</td>\n",
       "      <td>1</td>\n",
       "      <td>0</td>\n",
       "      <td>0</td>\n",
       "      <td>0</td>\n",
       "      <td>2</td>\n",
       "      <td>0.363478</td>\n",
       "      <td>0.353739</td>\n",
       "      <td>0.696087</td>\n",
       "      <td>0.248539</td>\n",
       "      <td>131</td>\n",
       "      <td>670</td>\n",
       "      <td>801</td>\n",
       "    </tr>\n",
       "    <tr>\n",
       "      <th>2</th>\n",
       "      <td>3</td>\n",
       "      <td>2011-01-03</td>\n",
       "      <td>1</td>\n",
       "      <td>0</td>\n",
       "      <td>1</td>\n",
       "      <td>0</td>\n",
       "      <td>1</td>\n",
       "      <td>1</td>\n",
       "      <td>1</td>\n",
       "      <td>0.196364</td>\n",
       "      <td>0.189405</td>\n",
       "      <td>0.437273</td>\n",
       "      <td>0.248309</td>\n",
       "      <td>120</td>\n",
       "      <td>1229</td>\n",
       "      <td>1349</td>\n",
       "    </tr>\n",
       "    <tr>\n",
       "      <th>3</th>\n",
       "      <td>4</td>\n",
       "      <td>2011-01-04</td>\n",
       "      <td>1</td>\n",
       "      <td>0</td>\n",
       "      <td>1</td>\n",
       "      <td>0</td>\n",
       "      <td>2</td>\n",
       "      <td>1</td>\n",
       "      <td>1</td>\n",
       "      <td>0.200000</td>\n",
       "      <td>0.212122</td>\n",
       "      <td>0.590435</td>\n",
       "      <td>0.160296</td>\n",
       "      <td>108</td>\n",
       "      <td>1454</td>\n",
       "      <td>1562</td>\n",
       "    </tr>\n",
       "    <tr>\n",
       "      <th>4</th>\n",
       "      <td>5</td>\n",
       "      <td>2011-01-05</td>\n",
       "      <td>1</td>\n",
       "      <td>0</td>\n",
       "      <td>1</td>\n",
       "      <td>0</td>\n",
       "      <td>3</td>\n",
       "      <td>1</td>\n",
       "      <td>1</td>\n",
       "      <td>0.226957</td>\n",
       "      <td>0.229270</td>\n",
       "      <td>0.436957</td>\n",
       "      <td>0.186900</td>\n",
       "      <td>82</td>\n",
       "      <td>1518</td>\n",
       "      <td>1600</td>\n",
       "    </tr>\n",
       "  </tbody>\n",
       "</table>\n",
       "</div>"
      ],
      "text/plain": [
       "   rec_id    datetime  season  year  month  holiday  weekday  workingday  \\\n",
       "0       1  2011-01-01       1     0      1        0        6           0   \n",
       "1       2  2011-01-02       1     0      1        0        0           0   \n",
       "2       3  2011-01-03       1     0      1        0        1           1   \n",
       "3       4  2011-01-04       1     0      1        0        2           1   \n",
       "4       5  2011-01-05       1     0      1        0        3           1   \n",
       "\n",
       "   weather_condition      temp     atemp  humidity  windspeed  casual  \\\n",
       "0                  2  0.344167  0.363625  0.805833   0.160446     331   \n",
       "1                  2  0.363478  0.353739  0.696087   0.248539     131   \n",
       "2                  1  0.196364  0.189405  0.437273   0.248309     120   \n",
       "3                  1  0.200000  0.212122  0.590435   0.160296     108   \n",
       "4                  1  0.226957  0.229270  0.436957   0.186900      82   \n",
       "\n",
       "   registered  total_count  \n",
       "0         654          985  \n",
       "1         670          801  \n",
       "2        1229         1349  \n",
       "3        1454         1562  \n",
       "4        1518         1600  "
      ]
     },
     "execution_count": 19,
     "metadata": {},
     "output_type": "execute_result"
    }
   ],
   "source": [
    "bike.head(5)"
   ]
  },
  {
   "cell_type": "code",
   "execution_count": 28,
   "id": "f831c3d3",
   "metadata": {},
   "outputs": [],
   "source": [
    "#Type casting the datetime and numerical attributes to category ## important phase##\n",
    "\n",
    "bike['datetime']=pd.to_datetime(bike.datetime)\n",
    "\n",
    "bike['season']=bike.season.astype('category')\n",
    "bike['year']=bike.year.astype('category')\n",
    "bike['month']=bike.month.astype('category')\n",
    "bike['holiday']=bike.holiday.astype('category')\n",
    "bike['weekday']=bike.weekday.astype('category')\n",
    "bike['workingday']=bike.workingday.astype('category')\n",
    "bike['weather_condition']=bike.weather_condition.astype('category')"
   ]
  },
  {
   "cell_type": "code",
   "execution_count": 29,
   "id": "30e89326",
   "metadata": {},
   "outputs": [
    {
     "data": {
      "text/html": [
       "<div>\n",
       "<style scoped>\n",
       "    .dataframe tbody tr th:only-of-type {\n",
       "        vertical-align: middle;\n",
       "    }\n",
       "\n",
       "    .dataframe tbody tr th {\n",
       "        vertical-align: top;\n",
       "    }\n",
       "\n",
       "    .dataframe thead th {\n",
       "        text-align: right;\n",
       "    }\n",
       "</style>\n",
       "<table border=\"1\" class=\"dataframe\">\n",
       "  <thead>\n",
       "    <tr style=\"text-align: right;\">\n",
       "      <th></th>\n",
       "      <th>rec_id</th>\n",
       "      <th>temp</th>\n",
       "      <th>atemp</th>\n",
       "      <th>humidity</th>\n",
       "      <th>windspeed</th>\n",
       "      <th>casual</th>\n",
       "      <th>registered</th>\n",
       "      <th>total_count</th>\n",
       "    </tr>\n",
       "  </thead>\n",
       "  <tbody>\n",
       "    <tr>\n",
       "      <th>count</th>\n",
       "      <td>731.000000</td>\n",
       "      <td>731.000000</td>\n",
       "      <td>731.000000</td>\n",
       "      <td>731.000000</td>\n",
       "      <td>731.000000</td>\n",
       "      <td>731.000000</td>\n",
       "      <td>731.000000</td>\n",
       "      <td>731.000000</td>\n",
       "    </tr>\n",
       "    <tr>\n",
       "      <th>mean</th>\n",
       "      <td>366.000000</td>\n",
       "      <td>0.495385</td>\n",
       "      <td>0.474354</td>\n",
       "      <td>0.627894</td>\n",
       "      <td>0.190486</td>\n",
       "      <td>848.176471</td>\n",
       "      <td>3656.172367</td>\n",
       "      <td>4504.348837</td>\n",
       "    </tr>\n",
       "    <tr>\n",
       "      <th>std</th>\n",
       "      <td>211.165812</td>\n",
       "      <td>0.183051</td>\n",
       "      <td>0.162961</td>\n",
       "      <td>0.142429</td>\n",
       "      <td>0.077498</td>\n",
       "      <td>686.622488</td>\n",
       "      <td>1560.256377</td>\n",
       "      <td>1937.211452</td>\n",
       "    </tr>\n",
       "    <tr>\n",
       "      <th>min</th>\n",
       "      <td>1.000000</td>\n",
       "      <td>0.059130</td>\n",
       "      <td>0.079070</td>\n",
       "      <td>0.000000</td>\n",
       "      <td>0.022392</td>\n",
       "      <td>2.000000</td>\n",
       "      <td>20.000000</td>\n",
       "      <td>22.000000</td>\n",
       "    </tr>\n",
       "    <tr>\n",
       "      <th>25%</th>\n",
       "      <td>183.500000</td>\n",
       "      <td>0.337083</td>\n",
       "      <td>0.337842</td>\n",
       "      <td>0.520000</td>\n",
       "      <td>0.134950</td>\n",
       "      <td>315.500000</td>\n",
       "      <td>2497.000000</td>\n",
       "      <td>3152.000000</td>\n",
       "    </tr>\n",
       "    <tr>\n",
       "      <th>50%</th>\n",
       "      <td>366.000000</td>\n",
       "      <td>0.498333</td>\n",
       "      <td>0.486733</td>\n",
       "      <td>0.626667</td>\n",
       "      <td>0.180975</td>\n",
       "      <td>713.000000</td>\n",
       "      <td>3662.000000</td>\n",
       "      <td>4548.000000</td>\n",
       "    </tr>\n",
       "    <tr>\n",
       "      <th>75%</th>\n",
       "      <td>548.500000</td>\n",
       "      <td>0.655417</td>\n",
       "      <td>0.608602</td>\n",
       "      <td>0.730209</td>\n",
       "      <td>0.233214</td>\n",
       "      <td>1096.000000</td>\n",
       "      <td>4776.500000</td>\n",
       "      <td>5956.000000</td>\n",
       "    </tr>\n",
       "    <tr>\n",
       "      <th>max</th>\n",
       "      <td>731.000000</td>\n",
       "      <td>0.861667</td>\n",
       "      <td>0.840896</td>\n",
       "      <td>0.972500</td>\n",
       "      <td>0.507463</td>\n",
       "      <td>3410.000000</td>\n",
       "      <td>6946.000000</td>\n",
       "      <td>8714.000000</td>\n",
       "    </tr>\n",
       "  </tbody>\n",
       "</table>\n",
       "</div>"
      ],
      "text/plain": [
       "           rec_id        temp       atemp    humidity   windspeed  \\\n",
       "count  731.000000  731.000000  731.000000  731.000000  731.000000   \n",
       "mean   366.000000    0.495385    0.474354    0.627894    0.190486   \n",
       "std    211.165812    0.183051    0.162961    0.142429    0.077498   \n",
       "min      1.000000    0.059130    0.079070    0.000000    0.022392   \n",
       "25%    183.500000    0.337083    0.337842    0.520000    0.134950   \n",
       "50%    366.000000    0.498333    0.486733    0.626667    0.180975   \n",
       "75%    548.500000    0.655417    0.608602    0.730209    0.233214   \n",
       "max    731.000000    0.861667    0.840896    0.972500    0.507463   \n",
       "\n",
       "            casual   registered  total_count  \n",
       "count   731.000000   731.000000   731.000000  \n",
       "mean    848.176471  3656.172367  4504.348837  \n",
       "std     686.622488  1560.256377  1937.211452  \n",
       "min       2.000000    20.000000    22.000000  \n",
       "25%     315.500000  2497.000000  3152.000000  \n",
       "50%     713.000000  3662.000000  4548.000000  \n",
       "75%    1096.000000  4776.500000  5956.000000  \n",
       "max    3410.000000  6946.000000  8714.000000  "
      ]
     },
     "execution_count": 29,
     "metadata": {},
     "output_type": "execute_result"
    }
   ],
   "source": [
    "#Summary of the dataset\n",
    "bike.describe()"
   ]
  },
  {
   "cell_type": "code",
   "execution_count": 31,
   "id": "278c2a83",
   "metadata": {},
   "outputs": [
    {
     "data": {
      "text/plain": [
       "rec_id               0\n",
       "datetime             0\n",
       "season               0\n",
       "year                 0\n",
       "month                0\n",
       "holiday              0\n",
       "weekday              0\n",
       "workingday           0\n",
       "weather_condition    0\n",
       "temp                 0\n",
       "atemp                0\n",
       "humidity             0\n",
       "windspeed            0\n",
       "casual               0\n",
       "registered           0\n",
       "total_count          0\n",
       "dtype: int64"
      ]
     },
     "execution_count": 31,
     "metadata": {},
     "output_type": "execute_result"
    }
   ],
   "source": [
    "##Missing value analysis\n",
    "##Missing values in dataset\n",
    "bike.isnull().sum() #####No missing values present in training dataset.\n",
    "\n"
   ]
  },
  {
   "cell_type": "code",
   "execution_count": 39,
   "id": "a660ff4b",
   "metadata": {},
   "outputs": [
    {
     "data": {
      "text/plain": [
       "Text(0.5, 1.0, 'Seasonwise monthly distribution of counts')"
      ]
     },
     "execution_count": 39,
     "metadata": {},
     "output_type": "execute_result"
    },
    {
     "data": {
      "image/png": "[encoded data removed]",
      "text/plain": [
       "<Figure size 1080x576 with 1 Axes>"
      ]
     },
     "metadata": {},
     "output_type": "display_data"
    }
   ],
   "source": [
    "###Attributes distributions and trends\n",
    "fig,ax=plt.subplots(figsize=(15,8))\n",
    "sns.set_style('white')\n",
    "#Bar plot for seasonwise monthly distribution of counts\n",
    "sns.barplot(x='month',y='total_count',data=bike[['month','total_count','season']],hue='season',ax=ax)\n",
    "ax.set_title('Seasonwise monthly distribution of counts')"
   ]
  },
  {
   "cell_type": "code",
   "execution_count": 46,
   "id": "69010b7f",
   "metadata": {},
   "outputs": [
    {
     "data": {
      "text/plain": [
       "Text(0.5, 1.0, 'Weekday wise monthly distribution of counts')"
      ]
     },
     "execution_count": 46,
     "metadata": {},
     "output_type": "execute_result"
    },
    {
     "data": {
      "image/png": "[encoded data removed]",
      "text/plain": [
       "<Figure size 1080x576 with 1 Axes>"
      ]
     },
     "metadata": {},
     "output_type": "display_data"
    }
   ],
   "source": [
    "#Bar plot for weekday wise monthly distribution of counts\n",
    "fig,ax1=plt.subplots(figsize=(15,8))\n",
    "sns.barplot(x='month',y='total_count',data=bike[['month','total_count','weekday']],hue='weekday',ax=ax1)\n",
    "ax1.set_title('Weekday wise monthly distribution of counts')"
   ]
  },
  {
   "cell_type": "code",
   "execution_count": null,
   "id": "af82801b",
   "metadata": {},
   "outputs": [],
   "source": [
    "##From the above plots, we can observed that increasing the bike rental count in \n",
    "#springe and summer season and then decreasing the bike rental count in fall and winter season.\n",
    "##Here,season 1-> spring season 2 -> summer season 3 -> fall season 4 -> winter"
   ]
  },
  {
   "cell_type": "code",
   "execution_count": 53,
   "id": "a9522807",
   "metadata": {},
   "outputs": [
    {
     "data": {
      "text/plain": [
       "Text(0.5, 1.0, 'Yearly distribution of count')"
      ]
     },
     "execution_count": 53,
     "metadata": {},
     "output_type": "execute_result"
    },
    {
     "data": {
      "image/png": "[encoded data removed]",
      "text/plain": [
       "<Figure size 1080x576 with 1 Axes>"
      ]
     },
     "metadata": {},
     "output_type": "display_data"
    }
   ],
   "source": [
    "##Yearly wise distribution of counts\n",
    "\n",
    "fig,ax=plt.subplots(figsize=(15,8))\n",
    "#Violin plot for yearly distribution of counts\n",
    "sns.violinplot(x='year',y='total_count',data=bike[['year','total_count']])\n",
    "ax.set_title('Yearly distribution of count')"
   ]
  },
  {
   "cell_type": "code",
   "execution_count": null,
   "id": "10299f8c",
   "metadata": {},
   "outputs": [],
   "source": [
    "##From the violin plot, we can observed that the bike rental count distribution is highest in year 2012 then in year 2011.\n",
    "##Here,year 0-> 2011, year 1-> 2012"
   ]
  },
  {
   "cell_type": "code",
   "execution_count": 56,
   "id": "b863f772",
   "metadata": {},
   "outputs": [
    {
     "data": {
      "text/plain": [
       "Text(0.5, 1.0, 'Holiday wise distribution of counts')"
      ]
     },
     "execution_count": 56,
     "metadata": {},
     "output_type": "execute_result"
    },
    {
     "data": {
      "image/png": "[encoded data removed]",
      "text/plain": [
       "<Figure size 1080x576 with 1 Axes>"
      ]
     },
     "metadata": {},
     "output_type": "display_data"
    }
   ],
   "source": [
    "##Holiday wise distribution of counts\n",
    "\n",
    "fig,ax=plt.subplots(figsize=(15,8))\n",
    "#Barplot for Holiday distribution of counts\n",
    "sns.barplot(data=bike,x='holiday',y='total_count',hue='season')\n",
    "ax.set_title('Holiday wise distribution of counts')"
   ]
  },
  {
   "cell_type": "code",
   "execution_count": null,
   "id": "2e71910d",
   "metadata": {},
   "outputs": [],
   "source": [
    "##From the above bar plot, we can observed that\n",
    "##during no holiday the bike rental counts is highest compared to during holiday for different seasons.\n",
    "###Here, 0->No holiday, 1-> holiday"
   ]
  },
  {
   "cell_type": "code",
   "execution_count": 59,
   "id": "d42420c9",
   "metadata": {},
   "outputs": [
    {
     "data": {
      "text/plain": [
       "Text(0.5, 1.0, 'Workingday wise distribution of counts')"
      ]
     },
     "execution_count": 59,
     "metadata": {},
     "output_type": "execute_result"
    },
    {
     "data": {
      "image/png": "[encoded data removed]",
      "text/plain": [
       "<Figure size 1080x576 with 1 Axes>"
      ]
     },
     "metadata": {},
     "output_type": "display_data"
    }
   ],
   "source": [
    "##Workingday wise distribution of counts\n",
    "fig,ax=plt.subplots(figsize=(15,8))\n",
    "#Bar plot for workingday distribution of counts\n",
    "sns.barplot(data=bike,x='workingday',y='total_count',hue='season')\n",
    "ax.set_title('Workingday wise distribution of counts')"
   ]
  },
  {
   "cell_type": "code",
   "execution_count": null,
   "id": "10be850b",
   "metadata": {},
   "outputs": [],
   "source": [
    "##From the above bar plot, we can observed that during\n",
    "##workingday the bike rental counts is quite highest compared to during no workingday for different seasons.\n",
    "##Here, 0-> No workingday, 1-> workingday"
   ]
  },
  {
   "cell_type": "code",
   "execution_count": 62,
   "id": "a98b30f5",
   "metadata": {},
   "outputs": [
    {
     "data": {
      "text/plain": [
       "Text(0.5, 1.0, 'Weather_condition wise monthly distribution of counts')"
      ]
     },
     "execution_count": 62,
     "metadata": {},
     "output_type": "execute_result"
    },
    {
     "data": {
      "image/png": "[encoded data removed]",
      "text/plain": [
       "<Figure size 1080x576 with 1 Axes>"
      ]
     },
     "metadata": {},
     "output_type": "display_data"
    }
   ],
   "source": [
    "fig,ax1=plt.subplots(figsize=(15,8))\n",
    "#Bar plot for weather_condition distribution of counts\n",
    "sns.barplot(x='weather_condition',y='total_count',data=bike[['month','total_count','weather_condition']],ax=ax1)\n",
    "ax1.set_title('Weather_condition wise monthly distribution of counts')"
   ]
  },
  {
   "cell_type": "code",
   "execution_count": null,
   "id": "d4123eb9",
   "metadata": {},
   "outputs": [],
   "source": [
    "###From the above bar plot, we can observed that \n",
    "##during clear,partly cloudy weather the bike rental count is highest and \n",
    "##the second highest is during mist cloudy weather and followed by third highest during light snow and light rain weather."
   ]
  },
  {
   "cell_type": "code",
   "execution_count": 65,
   "id": "6848075b",
   "metadata": {},
   "outputs": [
    {
     "data": {
      "text/plain": [
       "Text(0.5, 1.0, 'total_count outliers')"
      ]
     },
     "execution_count": 65,
     "metadata": {},
     "output_type": "execute_result"
    },
    {
     "data": {
      "image/png": "[encoded data removed]",
      "text/plain": [
       "<Figure size 1080x576 with 1 Axes>"
      ]
     },
     "metadata": {},
     "output_type": "display_data"
    }
   ],
   "source": [
    "##Outlier analysis\n",
    "###Total_Count_Outliers\n",
    "fig,ax=plt.subplots(figsize=(15,8))\n",
    "#Boxplot for total_count outliers\n",
    "sns.boxplot(data=bike[['total_count']])\n",
    "ax.set_title('total_count outliers')"
   ]
  },
  {
   "cell_type": "code",
   "execution_count": null,
   "id": "f627f1dd",
   "metadata": {},
   "outputs": [],
   "source": [
    "###From the box plot, we can observed that no outliers are present in total_count variable."
   ]
  },
  {
   "cell_type": "code",
   "execution_count": 68,
   "id": "ddcff051",
   "metadata": {},
   "outputs": [
    {
     "data": {
      "text/plain": [
       "Text(0.5, 1.0, 'Temp_windspeed_humidity_outiers')"
      ]
     },
     "execution_count": 68,
     "metadata": {},
     "output_type": "execute_result"
    },
    {
     "data": {
      "image/png": "[encoded data removed]",
      "text/plain": [
       "<Figure size 1080x576 with 1 Axes>"
      ]
     },
     "metadata": {},
     "output_type": "display_data"
    }
   ],
   "source": [
    "##Temp_windspeed_humidity_outliers\n",
    "fig,ax=plt.subplots(figsize=(15,8))\n",
    "#Box plot for Temp_windspeed_humidity_outliers\n",
    "sns.boxplot(data=bike[['temp','windspeed','humidity']])\n",
    "ax.set_title('Temp_windspeed_humidity_outiers')"
   ]
  },
  {
   "cell_type": "code",
   "execution_count": 79,
   "id": "dc9eb46e",
   "metadata": {},
   "outputs": [
    {
     "data": {
      "text/plain": [
       "((array([-3.10612952, -2.83371839, -2.68121219, -2.57340905, -2.48915191,\n",
       "         -2.41955673, -2.36001798, -2.30782877, -2.26125818, -2.21912992,\n",
       "         -2.18060696, -2.14507173, -2.11205508, -2.08119197, -2.05219258,\n",
       "         -2.0248228 , -1.99889075, -1.97423711, -1.95072808, -1.92825019,\n",
       "         -1.90670633, -1.88601273, -1.8660966 , -1.84689427, -1.82834975,\n",
       "         -1.81041348, -1.79304141, -1.77619419, -1.75983653, -1.74393663,\n",
       "         -1.72846577, -1.71339788, -1.69870925, -1.68437825, -1.67038506,\n",
       "         -1.6567115 , -1.64334086, -1.63025771, -1.6174478 , -1.60489794,\n",
       "         -1.59259587, -1.58053022, -1.56869036, -1.55706641, -1.54564912,\n",
       "         -1.53442983, -1.52340042, -1.51255328, -1.50188124, -1.49137757,\n",
       "         -1.4810359 , -1.47085025, -1.46081495, -1.45092464, -1.44117426,\n",
       "         -1.431559  , -1.4220743 , -1.41271583, -1.40347947, -1.39436132,\n",
       "         -1.38535765, -1.3764649 , -1.36767969, -1.35899879, -1.35041911,\n",
       "         -1.3419377 , -1.33355173, -1.32525852, -1.31705546, -1.30894008,\n",
       "         -1.30091001, -1.29296295, -1.28509673, -1.27730922, -1.26959842,\n",
       "         -1.26196238, -1.25439922, -1.24690714, -1.2394844 , -1.23212934,\n",
       "         -1.22484033, -1.21761582, -1.21045431, -1.20335435, -1.19631454,\n",
       "         -1.18933352, -1.18240998, -1.17554267, -1.16873035, -1.16197185,\n",
       "         -1.155266  , -1.14861171, -1.14200789, -1.13545351, -1.12894754,\n",
       "         -1.12248901, -1.11607697, -1.10971049, -1.10338867, -1.09711064,\n",
       "         -1.09087556, -1.08468261, -1.07853098, -1.07241989, -1.06634859,\n",
       "         -1.06031635, -1.05432244, -1.04836618, -1.04244688, -1.03656388,\n",
       "         -1.03071654, -1.02490423, -1.01912634, -1.01338227, -1.00767144,\n",
       "         -1.0019933 , -0.99634727, -0.99073283, -0.98514945, -0.9795966 ,\n",
       "         -0.97407381, -0.96858056, -0.96311639, -0.95768082, -0.9522734 ,\n",
       "         -0.94689368, -0.94154123, -0.93621562, -0.93091643, -0.92564325,\n",
       "         -0.92039569, -0.91517335, -0.90997585, -0.90480282, -0.89965388,\n",
       "         -0.89452869, -0.88942689, -0.88434814, -0.87929209, -0.87425842,\n",
       "         -0.86924681, -0.86425694, -0.85928849, -0.85434116, -0.84941466,\n",
       "         -0.84450869, -0.83962296, -0.83475719, -0.8299111 , -0.82508442,\n",
       "         -0.8202769 , -0.81548825, -0.81071823, -0.80596659, -0.80123308,\n",
       "         -0.79651745, -0.79181947, -0.78713889, -0.7824755 , -0.77782907,\n",
       "         -0.77319937, -0.76858618, -0.76398929, -0.75940848, -0.75484356,\n",
       "         -0.75029432, -0.74576055, -0.74124205, -0.73673864, -0.73225012,\n",
       "         -0.72777631, -0.72331702, -0.71887206, -0.71444126, -0.71002444,\n",
       "         -0.70562143, -0.70123206, -0.69685616, -0.69249356, -0.6881441 ,\n",
       "         -0.68380762, -0.67948396, -0.67517297, -0.67087448, -0.66658836,\n",
       "         -0.66231445, -0.6580526 , -0.65380267, -0.64956452, -0.64533801,\n",
       "         -0.64112299, -0.63691932, -0.63272689, -0.62854555, -0.62437516,\n",
       "         -0.62021561, -0.61606676, -0.61192849, -0.60780067, -0.60368318,\n",
       "         -0.59957591, -0.59547872, -0.5913915 , -0.58731414, -0.58324652,\n",
       "         -0.57918853, -0.57514005, -0.57110098, -0.5670712 , -0.56305061,\n",
       "         -0.5590391 , -0.55503657, -0.55104291, -0.54705802, -0.5430818 ,\n",
       "         -0.53911414, -0.53515496, -0.53120414, -0.5272616 , -0.52332724,\n",
       "         -0.51940096, -0.51548267, -0.51157228, -0.5076697 , -0.50377484,\n",
       "         -0.4998876 , -0.4960079 , -0.49213565, -0.48827077, -0.48441317,\n",
       "         -0.48056276, -0.47671946, -0.4728832 , -0.46905388, -0.46523142,\n",
       "         -0.46141575, -0.45760679, -0.45380445, -0.45000867, -0.44621936,\n",
       "         -0.44243644, -0.43865984, -0.43488949, -0.43112532, -0.42736724,\n",
       "         -0.42361519, -0.41986909, -0.41612887, -0.41239447, -0.40866581,\n",
       "         -0.40494282, -0.40122544, -0.39751359, -0.39380721, -0.39010623,\n",
       "         -0.38641059, -0.38272022, -0.37903506, -0.37535503, -0.37168008,\n",
       "         -0.36801015, -0.36434516, -0.36068506, -0.35702979, -0.35337928,\n",
       "         -0.34973347, -0.34609231, -0.34245573, -0.33882367, -0.33519607,\n",
       "         -0.33157289, -0.32795405, -0.3243395 , -0.32072918, -0.31712304,\n",
       "         -0.31352101, -0.30992305, -0.3063291 , -0.3027391 , -0.299153  ,\n",
       "         -0.29557074, -0.29199227, -0.28841753, -0.28484648, -0.28127906,\n",
       "         -0.27771521, -0.27415488, -0.27059803, -0.2670446 , -0.26349453,\n",
       "         -0.25994779, -0.25640431, -0.25286405, -0.24932695, -0.24579297,\n",
       "         -0.24226206, -0.23873416, -0.23520924, -0.23168723, -0.2281681 ,\n",
       "         -0.22465178, -0.22113825, -0.21762744, -0.21411931, -0.21061382,\n",
       "         -0.20711091, -0.20361054, -0.20011267, -0.19661724, -0.19312421,\n",
       "         -0.18963354, -0.18614518, -0.18265908, -0.17917519, -0.17569349,\n",
       "         -0.17221391, -0.16873641, -0.16526095, -0.16178749, -0.15831598,\n",
       "         -0.15484638, -0.15137863, -0.14791271, -0.14444857, -0.14098615,\n",
       "         -0.13752543, -0.13406635, -0.13060888, -0.12715297, -0.12369857,\n",
       "         -0.12024565, -0.11679416, -0.11334407, -0.10989532, -0.10644788,\n",
       "         -0.1030017 , -0.09955675, -0.09611298, -0.09267034, -0.08922881,\n",
       "         -0.08578833, -0.08234887, -0.07891038, -0.07547282, -0.07203616,\n",
       "         -0.06860034, -0.06516534, -0.0617311 , -0.05829759, -0.05486477,\n",
       "         -0.0514326 , -0.04800103, -0.04457003, -0.04113955, -0.03770955,\n",
       "         -0.03428   , -0.03085085, -0.02742207, -0.0239936 , -0.02056542,\n",
       "         -0.01713748, -0.01370974, -0.01028217, -0.00685471, -0.00342734,\n",
       "          0.        ,  0.00342734,  0.00685471,  0.01028217,  0.01370974,\n",
       "          0.01713748,  0.02056542,  0.0239936 ,  0.02742207,  0.03085085,\n",
       "          0.03428   ,  0.03770955,  0.04113955,  0.04457003,  0.04800103,\n",
       "          0.0514326 ,  0.05486477,  0.05829759,  0.0617311 ,  0.06516534,\n",
       "          0.06860034,  0.07203616,  0.07547282,  0.07891038,  0.08234887,\n",
       "          0.08578833,  0.08922881,  0.09267034,  0.09611298,  0.09955675,\n",
       "          0.1030017 ,  0.10644788,  0.10989532,  0.11334407,  0.11679416,\n",
       "          0.12024565,  0.12369857,  0.12715297,  0.13060888,  0.13406635,\n",
       "          0.13752543,  0.14098615,  0.14444857,  0.14791271,  0.15137863,\n",
       "          0.15484638,  0.15831598,  0.16178749,  0.16526095,  0.16873641,\n",
       "          0.17221391,  0.17569349,  0.17917519,  0.18265908,  0.18614518,\n",
       "          0.18963354,  0.19312421,  0.19661724,  0.20011267,  0.20361054,\n",
       "          0.20711091,  0.21061382,  0.21411931,  0.21762744,  0.22113825,\n",
       "          0.22465178,  0.2281681 ,  0.23168723,  0.23520924,  0.23873416,\n",
       "          0.24226206,  0.24579297,  0.24932695,  0.25286405,  0.25640431,\n",
       "          0.25994779,  0.26349453,  0.2670446 ,  0.27059803,  0.27415488,\n",
       "          0.27771521,  0.28127906,  0.28484648,  0.28841753,  0.29199227,\n",
       "          0.29557074,  0.299153  ,  0.3027391 ,  0.3063291 ,  0.30992305,\n",
       "          0.31352101,  0.31712304,  0.32072918,  0.3243395 ,  0.32795405,\n",
       "          0.33157289,  0.33519607,  0.33882367,  0.34245573,  0.34609231,\n",
       "          0.34973347,  0.35337928,  0.35702979,  0.36068506,  0.36434516,\n",
       "          0.36801015,  0.37168008,  0.37535503,  0.37903506,  0.38272022,\n",
       "          0.38641059,  0.39010623,  0.39380721,  0.39751359,  0.40122544,\n",
       "          0.40494282,  0.40866581,  0.41239447,  0.41612887,  0.41986909,\n",
       "          0.42361519,  0.42736724,  0.43112532,  0.43488949,  0.43865984,\n",
       "          0.44243644,  0.44621936,  0.45000867,  0.45380445,  0.45760679,\n",
       "          0.46141575,  0.46523142,  0.46905388,  0.4728832 ,  0.47671946,\n",
       "          0.48056276,  0.48441317,  0.48827077,  0.49213565,  0.4960079 ,\n",
       "          0.4998876 ,  0.50377484,  0.5076697 ,  0.51157228,  0.51548267,\n",
       "          0.51940096,  0.52332724,  0.5272616 ,  0.53120414,  0.53515496,\n",
       "          0.53911414,  0.5430818 ,  0.54705802,  0.55104291,  0.55503657,\n",
       "          0.5590391 ,  0.56305061,  0.5670712 ,  0.57110098,  0.57514005,\n",
       "          0.57918853,  0.58324652,  0.58731414,  0.5913915 ,  0.59547872,\n",
       "          0.59957591,  0.60368318,  0.60780067,  0.61192849,  0.61606676,\n",
       "          0.62021561,  0.62437516,  0.62854555,  0.63272689,  0.63691932,\n",
       "          0.64112299,  0.64533801,  0.64956452,  0.65380267,  0.6580526 ,\n",
       "          0.66231445,  0.66658836,  0.67087448,  0.67517297,  0.67948396,\n",
       "          0.68380762,  0.6881441 ,  0.69249356,  0.69685616,  0.70123206,\n",
       "          0.70562143,  0.71002444,  0.71444126,  0.71887206,  0.72331702,\n",
       "          0.72777631,  0.73225012,  0.73673864,  0.74124205,  0.74576055,\n",
       "          0.75029432,  0.75484356,  0.75940848,  0.76398929,  0.76858618,\n",
       "          0.77319937,  0.77782907,  0.7824755 ,  0.78713889,  0.79181947,\n",
       "          0.79651745,  0.80123308,  0.80596659,  0.81071823,  0.81548825,\n",
       "          0.8202769 ,  0.82508442,  0.8299111 ,  0.83475719,  0.83962296,\n",
       "          0.84450869,  0.84941466,  0.85434116,  0.85928849,  0.86425694,\n",
       "          0.86924681,  0.87425842,  0.87929209,  0.88434814,  0.88942689,\n",
       "          0.89452869,  0.89965388,  0.90480282,  0.90997585,  0.91517335,\n",
       "          0.92039569,  0.92564325,  0.93091643,  0.93621562,  0.94154123,\n",
       "          0.94689368,  0.9522734 ,  0.95768082,  0.96311639,  0.96858056,\n",
       "          0.97407381,  0.9795966 ,  0.98514945,  0.99073283,  0.99634727,\n",
       "          1.0019933 ,  1.00767144,  1.01338227,  1.01912634,  1.02490423,\n",
       "          1.03071654,  1.03656388,  1.04244688,  1.04836618,  1.05432244,\n",
       "          1.06031635,  1.06634859,  1.07241989,  1.07853098,  1.08468261,\n",
       "          1.09087556,  1.09711064,  1.10338867,  1.10971049,  1.11607697,\n",
       "          1.12248901,  1.12894754,  1.13545351,  1.14200789,  1.14861171,\n",
       "          1.155266  ,  1.16197185,  1.16873035,  1.17554267,  1.18240998,\n",
       "          1.18933352,  1.19631454,  1.20335435,  1.21045431,  1.21761582,\n",
       "          1.22484033,  1.23212934,  1.2394844 ,  1.24690714,  1.25439922,\n",
       "          1.26196238,  1.26959842,  1.27730922,  1.28509673,  1.29296295,\n",
       "          1.30091001,  1.30894008,  1.31705546,  1.32525852,  1.33355173,\n",
       "          1.3419377 ,  1.35041911,  1.35899879,  1.36767969,  1.3764649 ,\n",
       "          1.38535765,  1.39436132,  1.40347947,  1.41271583,  1.4220743 ,\n",
       "          1.431559  ,  1.44117426,  1.45092464,  1.46081495,  1.47085025,\n",
       "          1.4810359 ,  1.49137757,  1.50188124,  1.51255328,  1.52340042,\n",
       "          1.53442983,  1.54564912,  1.55706641,  1.56869036,  1.58053022,\n",
       "          1.59259587,  1.60489794,  1.6174478 ,  1.63025771,  1.64334086,\n",
       "          1.6567115 ,  1.67038506,  1.68437825,  1.69870925,  1.71339788,\n",
       "          1.72846577,  1.74393663,  1.75983653,  1.77619419,  1.79304141,\n",
       "          1.81041348,  1.82834975,  1.84689427,  1.8660966 ,  1.88601273,\n",
       "          1.90670633,  1.92825019,  1.95072808,  1.97423711,  1.99889075,\n",
       "          2.0248228 ,  2.05219258,  2.08119197,  2.11205508,  2.14507173,\n",
       "          2.18060696,  2.21912992,  2.26125818,  2.30782877,  2.36001798,\n",
       "          2.41955673,  2.48915191,  2.57340905,  2.68121219,  2.83371839,\n",
       "          3.10612952]),\n",
       "  array([  22,  431,  441,  506,  605,  623,  627,  683,  705,  754,  795,\n",
       "          801,  822,  920,  959,  981,  985,  986, 1000, 1005, 1011, 1013,\n",
       "         1027, 1096, 1096, 1098, 1107, 1115, 1162, 1162, 1167, 1204, 1248,\n",
       "         1263, 1301, 1317, 1321, 1341, 1349, 1360, 1406, 1416, 1421, 1446,\n",
       "         1450, 1461, 1471, 1472, 1495, 1501, 1510, 1526, 1529, 1530, 1536,\n",
       "         1538, 1543, 1550, 1562, 1589, 1600, 1605, 1606, 1607, 1623, 1635,\n",
       "         1650, 1683, 1685, 1685, 1693, 1708, 1712, 1746, 1749, 1787, 1795,\n",
       "         1796, 1807, 1812, 1815, 1817, 1834, 1842, 1851, 1865, 1872, 1891,\n",
       "         1913, 1917, 1927, 1944, 1951, 1969, 1977, 1977, 1985, 1996, 2028,\n",
       "         2034, 2046, 2056, 2077, 2077, 2114, 2115, 2121, 2132, 2133, 2134,\n",
       "         2162, 2169, 2177, 2192, 2209, 2210, 2227, 2236, 2252, 2277, 2294,\n",
       "         2298, 2302, 2311, 2368, 2376, 2395, 2402, 2416, 2417, 2423, 2424,\n",
       "         2424, 2425, 2425, 2429, 2431, 2432, 2455, 2471, 2475, 2485, 2493,\n",
       "         2496, 2566, 2594, 2633, 2659, 2660, 2689, 2703, 2710, 2729, 2732,\n",
       "         2739, 2743, 2744, 2765, 2792, 2802, 2808, 2832, 2843, 2895, 2913,\n",
       "         2914, 2918, 2927, 2933, 2935, 2947, 2999, 3005, 3053, 3068, 3068,\n",
       "         3071, 3095, 3115, 3117, 3126, 3129, 3141, 3163, 3190, 3194, 3204,\n",
       "         3214, 3214, 3228, 3239, 3243, 3249, 3267, 3272, 3285, 3292, 3310,\n",
       "         3322, 3331, 3333, 3348, 3351, 3351, 3368, 3372, 3376, 3387, 3389,\n",
       "         3392, 3403, 3409, 3422, 3423, 3425, 3429, 3456, 3485, 3487, 3510,\n",
       "         3520, 3523, 3542, 3544, 3570, 3574, 3577, 3598, 3606, 3613, 3614,\n",
       "         3620, 3623, 3624, 3641, 3644, 3649, 3659, 3663, 3669, 3709, 3717,\n",
       "         3727, 3740, 3744, 3747, 3750, 3761, 3767, 3777, 3784, 3784, 3785,\n",
       "         3786, 3805, 3811, 3820, 3830, 3831, 3840, 3846, 3855, 3867, 3872,\n",
       "         3873, 3894, 3907, 3910, 3915, 3922, 3926, 3940, 3944, 3956, 3958,\n",
       "         3959, 3974, 3974, 3982, 4010, 4023, 4035, 4036, 4040, 4046, 4058,\n",
       "         4066, 4067, 4068, 4073, 4073, 4075, 4086, 4094, 4097, 4098, 4098,\n",
       "         4105, 4109, 4118, 4120, 4123, 4127, 4128, 4150, 4151, 4153, 4154,\n",
       "         4169, 4182, 4186, 4187, 4189, 4191, 4195, 4195, 4205, 4220, 4258,\n",
       "         4266, 4270, 4274, 4274, 4294, 4302, 4304, 4308, 4318, 4322, 4326,\n",
       "         4332, 4333, 4334, 4338, 4339, 4342, 4352, 4359, 4362, 4363, 4367,\n",
       "         4375, 4378, 4381, 4390, 4400, 4401, 4401, 4433, 4451, 4456, 4458,\n",
       "         4459, 4459, 4460, 4475, 4484, 4486, 4492, 4507, 4509, 4511, 4521,\n",
       "         4539, 4541, 4548, 4549, 4553, 4563, 4569, 4570, 4575, 4576, 4579,\n",
       "         4585, 4586, 4590, 4592, 4595, 4602, 4608, 4629, 4630, 4634, 4639,\n",
       "         4648, 4649, 4649, 4656, 4660, 4661, 4665, 4669, 4672, 4677, 4679,\n",
       "         4687, 4694, 4708, 4713, 4714, 4717, 4725, 4727, 4744, 4748, 4758,\n",
       "         4758, 4760, 4763, 4765, 4773, 4780, 4785, 4788, 4790, 4792, 4795,\n",
       "         4803, 4826, 4833, 4835, 4839, 4840, 4844, 4845, 4862, 4864, 4866,\n",
       "         4881, 4891, 4905, 4906, 4911, 4916, 4917, 4940, 4966, 4968, 4972,\n",
       "         4978, 4985, 4990, 4991, 4996, 5008, 5010, 5020, 5026, 5035, 5041,\n",
       "         5046, 5047, 5058, 5062, 5084, 5087, 5099, 5102, 5107, 5115, 5115,\n",
       "         5117, 5119, 5119, 5130, 5138, 5146, 5169, 5170, 5180, 5191, 5191,\n",
       "         5202, 5202, 5204, 5217, 5225, 5255, 5259, 5260, 5260, 5267, 5298,\n",
       "         5302, 5305, 5312, 5312, 5315, 5319, 5323, 5336, 5342, 5345, 5362,\n",
       "         5375, 5382, 5409, 5409, 5423, 5424, 5445, 5459, 5463, 5464, 5478,\n",
       "         5495, 5499, 5501, 5511, 5515, 5531, 5532, 5538, 5557, 5558, 5566,\n",
       "         5572, 5582, 5585, 5611, 5629, 5633, 5634, 5668, 5686, 5687, 5698,\n",
       "         5698, 5713, 5728, 5729, 5740, 5743, 5786, 5805, 5810, 5823, 5847,\n",
       "         5847, 5870, 5875, 5892, 5895, 5905, 5918, 5923, 5936, 5976, 5986,\n",
       "         5992, 6031, 6034, 6041, 6043, 6043, 6053, 6073, 6093, 6118, 6133,\n",
       "         6140, 6153, 6169, 6192, 6196, 6203, 6207, 6211, 6227, 6230, 6233,\n",
       "         6234, 6235, 6241, 6269, 6273, 6290, 6296, 6299, 6304, 6312, 6359,\n",
       "         6370, 6392, 6398, 6421, 6436, 6457, 6460, 6530, 6536, 6536, 6544,\n",
       "         6565, 6569, 6572, 6591, 6591, 6597, 6598, 6606, 6624, 6639, 6660,\n",
       "         6664, 6685, 6691, 6734, 6770, 6772, 6778, 6779, 6784, 6786, 6824,\n",
       "         6824, 6825, 6830, 6852, 6855, 6857, 6861, 6864, 6869, 6871, 6879,\n",
       "         6883, 6883, 6889, 6891, 6904, 6917, 6966, 6969, 6978, 6998, 7001,\n",
       "         7006, 7013, 7030, 7040, 7055, 7058, 7105, 7109, 7112, 7129, 7132,\n",
       "         7148, 7175, 7216, 7261, 7264, 7273, 7282, 7286, 7290, 7328, 7333,\n",
       "         7335, 7338, 7347, 7350, 7359, 7363, 7375, 7384, 7393, 7403, 7410,\n",
       "         7415, 7421, 7424, 7429, 7436, 7442, 7444, 7446, 7458, 7460, 7461,\n",
       "         7466, 7494, 7498, 7499, 7504, 7509, 7525, 7534, 7534, 7538, 7570,\n",
       "         7572, 7580, 7582, 7591, 7592, 7605, 7639, 7641, 7665, 7691, 7693,\n",
       "         7697, 7702, 7713, 7720, 7733, 7736, 7765, 7767, 7804, 7836, 7852,\n",
       "         7865, 7870, 7907, 7965, 8009, 8090, 8120, 8156, 8167, 8173, 8227,\n",
       "         8294, 8362, 8395, 8555, 8714])),\n",
       " (1925.1274361641945, 4504.3488372093025, 0.9908084868276722))"
      ]
     },
     "execution_count": 79,
     "metadata": {},
     "output_type": "execute_result"
    },
    {
     "data": {
      "image/png": "[encoded data removed]",
      "text/plain": [
       "<Figure size 1080x576 with 1 Axes>"
      ]
     },
     "metadata": {},
     "output_type": "display_data"
    }
   ],
   "source": [
    "##Normal probability plot is a graphical technique to identify substantive departures\n",
    "##from normality and also it tells about goodness of fit.\n",
    "import scipy\n",
    "from scipy import stats\n",
    "import matplotlib.pyplot as plt\n",
    "#Normal plot\n",
    "fig=plt.figure(figsize=(15,8))\n",
    "stats.probplot(bike.total_count.tolist(),dist='norm',plot=plt)"
   ]
  },
  {
   "cell_type": "code",
   "execution_count": null,
   "id": "0ceb8930",
   "metadata": {},
   "outputs": [],
   "source": [
    "##The above probability plot, the some target variable data points are deviates from normality.\n",
    "    "
   ]
  },
  {
   "cell_type": "code",
   "execution_count": null,
   "id": "64a3828f",
   "metadata": {},
   "outputs": [],
   "source": [
    "## why we are using Correlation matrix\n",
    "##Correlation matrix is tells about linear relationship between attributes and help us to build better models."
   ]
  },
  {
   "cell_type": "code",
   "execution_count": 85,
   "id": "7dba0477",
   "metadata": {},
   "outputs": [
    {
     "data": {
      "text/plain": [
       "Text(0.5, 1.0, 'Correlation matrix of attributes')"
      ]
     },
     "execution_count": 85,
     "metadata": {},
     "output_type": "execute_result"
    },
    {
     "data": {
      "image/png": "[encoded data removed]",
      "text/plain": [
       "<Figure size 1080x576 with 2 Axes>"
      ]
     },
     "metadata": {},
     "output_type": "display_data"
    }
   ],
   "source": [
    "#Create the correlation matrix\n",
    "correMtr=bike[[\"temp\",\"atemp\",\"humidity\",\"windspeed\",\"casual\",\"registered\",\"total_count\"]].corr()\n",
    "mask=np.array(correMtr)\n",
    "mask[np.tril_indices_from(mask)]=False\n",
    "#Heat map for correlation matrix of attributes\n",
    "fig,ax=plt.subplots(figsize=(15,8))\n",
    "sns.heatmap(correMtr,mask=mask,vmax=0.8,square=True,annot=True,ax=ax)\n",
    "ax.set_title('Correlation matrix of attributes')"
   ]
  },
  {
   "cell_type": "code",
   "execution_count": null,
   "id": "10ee7f7c",
   "metadata": {},
   "outputs": [],
   "source": [
    "##From correlation plot, we can observed that some features are positively correlated or some are negatively correlated to each other.\n",
    "##The temp and atemp are highly positively correlated to each other, \n",
    "##it means that both are carrying same information.The total_count,\n",
    "##casual and registered are highly positively correlated to each other. \n",
    "##So, we are going to ignore atemp,casual and registered variable for further analysis.\n",
    "\n"
   ]
  },
  {
   "cell_type": "code",
   "execution_count": 304,
   "id": "6b051876",
   "metadata": {},
   "outputs": [
    {
     "data": {
      "text/html": [
       "<div>\n",
       "<style scoped>\n",
       "    .dataframe tbody tr th:only-of-type {\n",
       "        vertical-align: middle;\n",
       "    }\n",
       "\n",
       "    .dataframe tbody tr th {\n",
       "        vertical-align: top;\n",
       "    }\n",
       "\n",
       "    .dataframe thead th {\n",
       "        text-align: right;\n",
       "    }\n",
       "</style>\n",
       "<table border=\"1\" class=\"dataframe\">\n",
       "  <thead>\n",
       "    <tr style=\"text-align: right;\">\n",
       "      <th></th>\n",
       "      <th>rec_id</th>\n",
       "      <th>temp</th>\n",
       "      <th>atemp</th>\n",
       "      <th>humidity</th>\n",
       "      <th>windspeed</th>\n",
       "      <th>casual</th>\n",
       "      <th>registered</th>\n",
       "      <th>total_count</th>\n",
       "    </tr>\n",
       "  </thead>\n",
       "  <tbody>\n",
       "    <tr>\n",
       "      <th>rec_id</th>\n",
       "      <td>1.000000</td>\n",
       "      <td>0.150580</td>\n",
       "      <td>0.152638</td>\n",
       "      <td>0.016375</td>\n",
       "      <td>-0.112620</td>\n",
       "      <td>0.275255</td>\n",
       "      <td>0.659623</td>\n",
       "      <td>0.628830</td>\n",
       "    </tr>\n",
       "    <tr>\n",
       "      <th>temp</th>\n",
       "      <td>0.150580</td>\n",
       "      <td>1.000000</td>\n",
       "      <td>0.991702</td>\n",
       "      <td>0.126963</td>\n",
       "      <td>-0.157944</td>\n",
       "      <td>0.543285</td>\n",
       "      <td>0.540012</td>\n",
       "      <td>0.627494</td>\n",
       "    </tr>\n",
       "    <tr>\n",
       "      <th>atemp</th>\n",
       "      <td>0.152638</td>\n",
       "      <td>0.991702</td>\n",
       "      <td>1.000000</td>\n",
       "      <td>0.139988</td>\n",
       "      <td>-0.183643</td>\n",
       "      <td>0.543864</td>\n",
       "      <td>0.544192</td>\n",
       "      <td>0.631066</td>\n",
       "    </tr>\n",
       "    <tr>\n",
       "      <th>humidity</th>\n",
       "      <td>0.016375</td>\n",
       "      <td>0.126963</td>\n",
       "      <td>0.139988</td>\n",
       "      <td>1.000000</td>\n",
       "      <td>-0.248489</td>\n",
       "      <td>-0.077008</td>\n",
       "      <td>-0.091089</td>\n",
       "      <td>-0.100659</td>\n",
       "    </tr>\n",
       "    <tr>\n",
       "      <th>windspeed</th>\n",
       "      <td>-0.112620</td>\n",
       "      <td>-0.157944</td>\n",
       "      <td>-0.183643</td>\n",
       "      <td>-0.248489</td>\n",
       "      <td>1.000000</td>\n",
       "      <td>-0.167613</td>\n",
       "      <td>-0.217449</td>\n",
       "      <td>-0.234545</td>\n",
       "    </tr>\n",
       "    <tr>\n",
       "      <th>casual</th>\n",
       "      <td>0.275255</td>\n",
       "      <td>0.543285</td>\n",
       "      <td>0.543864</td>\n",
       "      <td>-0.077008</td>\n",
       "      <td>-0.167613</td>\n",
       "      <td>1.000000</td>\n",
       "      <td>0.395282</td>\n",
       "      <td>0.672804</td>\n",
       "    </tr>\n",
       "    <tr>\n",
       "      <th>registered</th>\n",
       "      <td>0.659623</td>\n",
       "      <td>0.540012</td>\n",
       "      <td>0.544192</td>\n",
       "      <td>-0.091089</td>\n",
       "      <td>-0.217449</td>\n",
       "      <td>0.395282</td>\n",
       "      <td>1.000000</td>\n",
       "      <td>0.945517</td>\n",
       "    </tr>\n",
       "    <tr>\n",
       "      <th>total_count</th>\n",
       "      <td>0.628830</td>\n",
       "      <td>0.627494</td>\n",
       "      <td>0.631066</td>\n",
       "      <td>-0.100659</td>\n",
       "      <td>-0.234545</td>\n",
       "      <td>0.672804</td>\n",
       "      <td>0.945517</td>\n",
       "      <td>1.000000</td>\n",
       "    </tr>\n",
       "  </tbody>\n",
       "</table>\n",
       "</div>"
      ],
      "text/plain": [
       "               rec_id      temp     atemp  humidity  windspeed    casual  \\\n",
       "rec_id       1.000000  0.150580  0.152638  0.016375  -0.112620  0.275255   \n",
       "temp         0.150580  1.000000  0.991702  0.126963  -0.157944  0.543285   \n",
       "atemp        0.152638  0.991702  1.000000  0.139988  -0.183643  0.543864   \n",
       "humidity     0.016375  0.126963  0.139988  1.000000  -0.248489 -0.077008   \n",
       "windspeed   -0.112620 -0.157944 -0.183643 -0.248489   1.000000 -0.167613   \n",
       "casual       0.275255  0.543285  0.543864 -0.077008  -0.167613  1.000000   \n",
       "registered   0.659623  0.540012  0.544192 -0.091089  -0.217449  0.395282   \n",
       "total_count  0.628830  0.627494  0.631066 -0.100659  -0.234545  0.672804   \n",
       "\n",
       "             registered  total_count  \n",
       "rec_id         0.659623     0.628830  \n",
       "temp           0.540012     0.627494  \n",
       "atemp          0.544192     0.631066  \n",
       "humidity      -0.091089    -0.100659  \n",
       "windspeed     -0.217449    -0.234545  \n",
       "casual         0.395282     0.672804  \n",
       "registered     1.000000     0.945517  \n",
       "total_count    0.945517     1.000000  "
      ]
     },
     "execution_count": 304,
     "metadata": {},
     "output_type": "execute_result"
    }
   ],
   "source": [
    "bike.corr()"
   ]
  },
  {
   "cell_type": "code",
   "execution_count": 305,
   "id": "01f654bb",
   "metadata": {},
   "outputs": [],
   "source": [
    "## trained the data set\n",
    "X = bike[['rec_id', 'temp', 'atemp', 'humidity', 'windspeed', 'casual','registered']]\n",
    "Y = bike['total_count']"
   ]
  },
  {
   "cell_type": "code",
   "execution_count": 336,
   "id": "e39a579e",
   "metadata": {},
   "outputs": [],
   "source": [
    "## splitting the datafile\n",
    "from sklearn.model_selection import train_test_split\n",
    "X_train, X_test, y_train, y_test = train_test_split(X, Y, test_size=0.4, random_state=70)"
   ]
  },
  {
   "cell_type": "code",
   "execution_count": 337,
   "id": "90fe192d",
   "metadata": {},
   "outputs": [
    {
     "data": {
      "text/plain": [
       "LinearRegression()"
      ]
     },
     "execution_count": 337,
     "metadata": {},
     "output_type": "execute_result"
    }
   ],
   "source": [
    "## TO fitting the model\n",
    "from sklearn.linear_model import LinearRegression\n",
    "lm = LinearRegression()\n",
    "lm.fit(X_train,y_train)"
   ]
  },
  {
   "cell_type": "code",
   "execution_count": 338,
   "id": "15a24d52",
   "metadata": {},
   "outputs": [
    {
     "name": "stdout",
     "output_type": "stream",
     "text": [
      "1.8189894035458565e-12\n"
     ]
    }
   ],
   "source": [
    "#Model Evaluation\n",
    "print(lm.intercept_)\n"
   ]
  },
  {
   "cell_type": "code",
   "execution_count": 340,
   "id": "bdd59664",
   "metadata": {},
   "outputs": [
    {
     "data": {
      "text/html": [
       "<div>\n",
       "<style scoped>\n",
       "    .dataframe tbody tr th:only-of-type {\n",
       "        vertical-align: middle;\n",
       "    }\n",
       "\n",
       "    .dataframe tbody tr th {\n",
       "        vertical-align: top;\n",
       "    }\n",
       "\n",
       "    .dataframe thead th {\n",
       "        text-align: right;\n",
       "    }\n",
       "</style>\n",
       "<table border=\"1\" class=\"dataframe\">\n",
       "  <thead>\n",
       "    <tr style=\"text-align: right;\">\n",
       "      <th></th>\n",
       "      <th>Coefficient</th>\n",
       "    </tr>\n",
       "  </thead>\n",
       "  <tbody>\n",
       "    <tr>\n",
       "      <th>rec_id</th>\n",
       "      <td>1.708103e-15</td>\n",
       "    </tr>\n",
       "    <tr>\n",
       "      <th>temp</th>\n",
       "      <td>1.763440e-12</td>\n",
       "    </tr>\n",
       "    <tr>\n",
       "      <th>atemp</th>\n",
       "      <td>2.309489e-12</td>\n",
       "    </tr>\n",
       "    <tr>\n",
       "      <th>humidity</th>\n",
       "      <td>-1.637796e-12</td>\n",
       "    </tr>\n",
       "    <tr>\n",
       "      <th>windspeed</th>\n",
       "      <td>-1.594035e-12</td>\n",
       "    </tr>\n",
       "    <tr>\n",
       "      <th>casual</th>\n",
       "      <td>1.000000e+00</td>\n",
       "    </tr>\n",
       "    <tr>\n",
       "      <th>registered</th>\n",
       "      <td>1.000000e+00</td>\n",
       "    </tr>\n",
       "  </tbody>\n",
       "</table>\n",
       "</div>"
      ],
      "text/plain": [
       "             Coefficient\n",
       "rec_id      1.708103e-15\n",
       "temp        1.763440e-12\n",
       "atemp       2.309489e-12\n",
       "humidity   -1.637796e-12\n",
       "windspeed  -1.594035e-12\n",
       "casual      1.000000e+00\n",
       "registered  1.000000e+00"
      ]
     },
     "execution_count": 340,
     "metadata": {},
     "output_type": "execute_result"
    }
   ],
   "source": [
    "coeff_bike = pd.DataFrame(lm.coef_,X.columns,columns=['Coefficient'])\n",
    "coeff_bike"
   ]
  },
  {
   "cell_type": "code",
   "execution_count": 342,
   "id": "ccf007e2",
   "metadata": {},
   "outputs": [
    {
     "data": {
      "text/plain": [
       "<matplotlib.collections.PathCollection at 0x260013b8220>"
      ]
     },
     "execution_count": 342,
     "metadata": {},
     "output_type": "execute_result"
    },
    {
     "data": {
      "image/png": "[encoded data removed]",
      "text/plain": [
       "<Figure size 432x288 with 1 Axes>"
      ]
     },
     "metadata": {},
     "output_type": "display_data"
    }
   ],
   "source": [
    "##Predictions from our Model\n",
    "predictions = lm.predict(X_test)\n",
    "plt.scatter(y_test,predictions)"
   ]
  },
  {
   "cell_type": "code",
   "execution_count": 343,
   "id": "b9ac5966",
   "metadata": {},
   "outputs": [
    {
     "data": {
      "text/plain": [
       "<AxesSubplot:xlabel='total_count', ylabel='Density'>"
      ]
     },
     "execution_count": 343,
     "metadata": {},
     "output_type": "execute_result"
    },
    {
     "data": {
      "image/png": "[encoded data removed]",
      "text/plain": [
       "<Figure size 432x288 with 1 Axes>"
      ]
     },
     "metadata": {},
     "output_type": "display_data"
    }
   ],
   "source": [
    "sns.distplot(y_test-predictions)"
   ]
  },
  {
   "cell_type": "code",
   "execution_count": 344,
   "id": "7f29d81d",
   "metadata": {},
   "outputs": [
    {
     "name": "stdout",
     "output_type": "stream",
     "text": [
      "MAE: 6.043250844758259e-13\n",
      "MSE: 7.161186465091185e-25\n",
      "RMSE: 8.462379372901681e-13\n"
     ]
    }
   ],
   "source": [
    "##evaluate model\n",
    "from sklearn import metrics\n",
    "print('MAE:', metrics.mean_absolute_error(y_test, predictions))\n",
    "print('MSE:', metrics.mean_squared_error(y_test, predictions))\n",
    "print('RMSE:', np.sqrt(metrics.mean_squared_error(y_test, predictions)))"
   ]
  },
  {
   "cell_type": "code",
   "execution_count": null,
   "id": "bcb41969",
   "metadata": {},
   "outputs": [],
   "source": []
  },
  {
   "cell_type": "code",
   "execution_count": null,
   "id": "80a71c78",
   "metadata": {},
   "outputs": [],
   "source": []
  },
  {
   "cell_type": "code",
   "execution_count": null,
   "id": "86afd544",
   "metadata": {},
   "outputs": [],
   "source": [
    "\n"
   ]
  }
 ],
 "metadata": {
  "kernelspec": {
   "display_name": "Python 3",
   "language": "python",
   "name": "python3"
  },
  "language_info": {
   "codemirror_mode": {
    "name": "ipython",
    "version": 3
   },
   "file_extension": ".py",
   "mimetype": "text/x-python",
   "name": "python",
   "nbconvert_exporter": "python",
   "pygments_lexer": "ipython3",
   "version": "3.8.8"
  }
 },
 "nbformat": 4,
 "nbformat_minor": 5
}
